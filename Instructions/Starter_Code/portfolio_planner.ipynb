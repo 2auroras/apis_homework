{
 "cells": [
  {
   "cell_type": "code",
   "execution_count": 47,
   "metadata": {},
   "outputs": [],
   "source": [
    "import numpy as np\n",
    "import pandas as pd\n",
    "from datetime import datetime, timedelta\n",
    "import matplotlib.pyplot as plt\n",
    "%matplotlib inline"
   ]
  },
  {
   "cell_type": "code",
   "execution_count": 48,
   "metadata": {},
   "outputs": [],
   "source": [
    "np.random.seed(42)"
   ]
  },
  {
   "cell_type": "markdown",
   "metadata": {},
   "source": [
    "# Portfolio Planner\n",
    "\n",
    "In this activity, you will use the iedfinance api to grab historical data for a 60/40 portfolio using `SPY` to represent the stock portion and `AGG` to represent the bonds."
   ]
  },
  {
   "cell_type": "code",
   "execution_count": 49,
   "metadata": {},
   "outputs": [],
   "source": [
    "from iexfinance.stocks import get_historical_data\n",
    "import iexfinance as iex"
   ]
  },
  {
   "cell_type": "markdown",
   "metadata": {},
   "source": [
    "# Data Collection\n",
    "\n",
    "In this step, you will need to use the IEX api to fetch closing prices for the `SPY` and `AGG` tickers. Save the results as a pandas DataFrame"
   ]
  },
  {
   "cell_type": "code",
   "execution_count": 50,
   "metadata": {},
   "outputs": [
    {
     "data": {
      "text/html": [
       "<div>\n",
       "<style scoped>\n",
       "    .dataframe tbody tr th:only-of-type {\n",
       "        vertical-align: middle;\n",
       "    }\n",
       "\n",
       "    .dataframe tbody tr th {\n",
       "        vertical-align: top;\n",
       "    }\n",
       "\n",
       "    .dataframe thead tr th {\n",
       "        text-align: left;\n",
       "    }\n",
       "\n",
       "    .dataframe thead tr:last-of-type th {\n",
       "        text-align: right;\n",
       "    }\n",
       "</style>\n",
       "<table border=\"1\" class=\"dataframe\">\n",
       "  <thead>\n",
       "    <tr>\n",
       "      <th></th>\n",
       "      <th colspan=\"5\" halign=\"left\">SPY</th>\n",
       "      <th colspan=\"5\" halign=\"left\">AGG</th>\n",
       "    </tr>\n",
       "    <tr>\n",
       "      <th></th>\n",
       "      <th>open</th>\n",
       "      <th>high</th>\n",
       "      <th>low</th>\n",
       "      <th>close</th>\n",
       "      <th>volume</th>\n",
       "      <th>open</th>\n",
       "      <th>high</th>\n",
       "      <th>low</th>\n",
       "      <th>close</th>\n",
       "      <th>volume</th>\n",
       "    </tr>\n",
       "    <tr>\n",
       "      <th>date</th>\n",
       "      <th></th>\n",
       "      <th></th>\n",
       "      <th></th>\n",
       "      <th></th>\n",
       "      <th></th>\n",
       "      <th></th>\n",
       "      <th></th>\n",
       "      <th></th>\n",
       "      <th></th>\n",
       "      <th></th>\n",
       "    </tr>\n",
       "  </thead>\n",
       "  <tbody>\n",
       "    <tr>\n",
       "      <th>2018-09-04</th>\n",
       "      <td>289.84</td>\n",
       "      <td>290.21</td>\n",
       "      <td>288.68</td>\n",
       "      <td>289.81</td>\n",
       "      <td>57594367</td>\n",
       "      <td>106.02</td>\n",
       "      <td>106.12</td>\n",
       "      <td>105.98</td>\n",
       "      <td>106.06</td>\n",
       "      <td>3164000</td>\n",
       "    </tr>\n",
       "    <tr>\n",
       "      <th>2018-09-05</th>\n",
       "      <td>289.41</td>\n",
       "      <td>289.64</td>\n",
       "      <td>287.89</td>\n",
       "      <td>289.03</td>\n",
       "      <td>72452437</td>\n",
       "      <td>106.05</td>\n",
       "      <td>106.08</td>\n",
       "      <td>105.96</td>\n",
       "      <td>106.01</td>\n",
       "      <td>2788329</td>\n",
       "    </tr>\n",
       "    <tr>\n",
       "      <th>2018-09-06</th>\n",
       "      <td>289.15</td>\n",
       "      <td>289.49</td>\n",
       "      <td>287.00</td>\n",
       "      <td>288.16</td>\n",
       "      <td>65909863</td>\n",
       "      <td>106.09</td>\n",
       "      <td>106.27</td>\n",
       "      <td>106.09</td>\n",
       "      <td>106.19</td>\n",
       "      <td>2248481</td>\n",
       "    </tr>\n",
       "    <tr>\n",
       "      <th>2018-09-07</th>\n",
       "      <td>286.98</td>\n",
       "      <td>288.70</td>\n",
       "      <td>286.71</td>\n",
       "      <td>287.60</td>\n",
       "      <td>73524824</td>\n",
       "      <td>105.92</td>\n",
       "      <td>105.94</td>\n",
       "      <td>105.81</td>\n",
       "      <td>105.81</td>\n",
       "      <td>2571740</td>\n",
       "    </tr>\n",
       "    <tr>\n",
       "      <th>2018-09-10</th>\n",
       "      <td>288.74</td>\n",
       "      <td>289.04</td>\n",
       "      <td>287.88</td>\n",
       "      <td>288.10</td>\n",
       "      <td>50210903</td>\n",
       "      <td>105.85</td>\n",
       "      <td>105.95</td>\n",
       "      <td>105.85</td>\n",
       "      <td>105.91</td>\n",
       "      <td>3305683</td>\n",
       "    </tr>\n",
       "  </tbody>\n",
       "</table>\n",
       "</div>"
      ],
      "text/plain": [
       "               SPY                                       AGG                  \\\n",
       "              open    high     low   close    volume    open    high     low   \n",
       "date                                                                           \n",
       "2018-09-04  289.84  290.21  288.68  289.81  57594367  106.02  106.12  105.98   \n",
       "2018-09-05  289.41  289.64  287.89  289.03  72452437  106.05  106.08  105.96   \n",
       "2018-09-06  289.15  289.49  287.00  288.16  65909863  106.09  106.27  106.09   \n",
       "2018-09-07  286.98  288.70  286.71  287.60  73524824  105.92  105.94  105.81   \n",
       "2018-09-10  288.74  289.04  287.88  288.10  50210903  105.85  105.95  105.85   \n",
       "\n",
       "                             \n",
       "             close   volume  \n",
       "date                         \n",
       "2018-09-04  106.06  3164000  \n",
       "2018-09-05  106.01  2788329  \n",
       "2018-09-06  106.19  2248481  \n",
       "2018-09-07  105.81  2571740  \n",
       "2018-09-10  105.91  3305683  "
      ]
     },
     "execution_count": 50,
     "metadata": {},
     "output_type": "execute_result"
    }
   ],
   "source": [
    "tickers = [\"SPY\", \"AGG\"]\n",
    "end_date = datetime.now()\n",
    "start_date = end_date + timedelta(-365)\n",
    "df = get_historical_data(tickers, start_date, end_date,  output_format='pandas')\n",
    "df.head()"
   ]
  },
  {
   "cell_type": "code",
   "execution_count": 51,
   "metadata": {},
   "outputs": [
    {
     "data": {
      "text/html": [
       "<div>\n",
       "<style scoped>\n",
       "    .dataframe tbody tr th:only-of-type {\n",
       "        vertical-align: middle;\n",
       "    }\n",
       "\n",
       "    .dataframe tbody tr th {\n",
       "        vertical-align: top;\n",
       "    }\n",
       "\n",
       "    .dataframe thead tr th {\n",
       "        text-align: left;\n",
       "    }\n",
       "\n",
       "    .dataframe thead tr:last-of-type th {\n",
       "        text-align: right;\n",
       "    }\n",
       "</style>\n",
       "<table border=\"1\" class=\"dataframe\">\n",
       "  <thead>\n",
       "    <tr>\n",
       "      <th></th>\n",
       "      <th>SPY</th>\n",
       "      <th>AGG</th>\n",
       "    </tr>\n",
       "    <tr>\n",
       "      <th></th>\n",
       "      <th>close</th>\n",
       "      <th>close</th>\n",
       "    </tr>\n",
       "    <tr>\n",
       "      <th>date</th>\n",
       "      <th></th>\n",
       "      <th></th>\n",
       "    </tr>\n",
       "  </thead>\n",
       "  <tbody>\n",
       "    <tr>\n",
       "      <th>2018-09-04</th>\n",
       "      <td>289.81</td>\n",
       "      <td>106.06</td>\n",
       "    </tr>\n",
       "    <tr>\n",
       "      <th>2018-09-05</th>\n",
       "      <td>289.03</td>\n",
       "      <td>106.01</td>\n",
       "    </tr>\n",
       "    <tr>\n",
       "      <th>2018-09-06</th>\n",
       "      <td>288.16</td>\n",
       "      <td>106.19</td>\n",
       "    </tr>\n",
       "    <tr>\n",
       "      <th>2018-09-07</th>\n",
       "      <td>287.60</td>\n",
       "      <td>105.81</td>\n",
       "    </tr>\n",
       "    <tr>\n",
       "      <th>2018-09-10</th>\n",
       "      <td>288.10</td>\n",
       "      <td>105.91</td>\n",
       "    </tr>\n",
       "  </tbody>\n",
       "</table>\n",
       "</div>"
      ],
      "text/plain": [
       "               SPY     AGG\n",
       "             close   close\n",
       "date                      \n",
       "2018-09-04  289.81  106.06\n",
       "2018-09-05  289.03  106.01\n",
       "2018-09-06  288.16  106.19\n",
       "2018-09-07  287.60  105.81\n",
       "2018-09-10  288.10  105.91"
      ]
     },
     "execution_count": 51,
     "metadata": {},
     "output_type": "execute_result"
    }
   ],
   "source": [
    "df.drop(columns=['open', 'high', 'low', 'volume'], level=1, inplace=True)\n",
    "df.head()"
   ]
  },
  {
   "cell_type": "markdown",
   "metadata": {},
   "source": [
    "# Monte Carlo Simulation\n",
    "\n",
    "In this step, you will run Monte Carlo Simulations for your portfolio to model portfolio performance at different retirement ages. \n",
    "\n",
    "Complete the following steps:\n",
    "1. Calculate the daily returns for the SPY and AGG closing prices.\n",
    "2. Calculate volatility for both the SPY and AGG closing prices.\n",
    "3. Find the last day's closing price for both stocks and save those as variables.\n",
    "4. Run a Monte Carlo Simulation of at least 100 iterations and generate at least 20 years of closing prices\n",
    "\n",
    "### HINTS:\n",
    "There are 252 trading days per year, so the number of records to generate for each Monte Carlo run will be 252 days * 20 years"
   ]
  },
  {
   "cell_type": "code",
   "execution_count": 52,
   "metadata": {},
   "outputs": [
    {
     "data": {
      "text/html": [
       "<div>\n",
       "<style scoped>\n",
       "    .dataframe tbody tr th:only-of-type {\n",
       "        vertical-align: middle;\n",
       "    }\n",
       "\n",
       "    .dataframe tbody tr th {\n",
       "        vertical-align: top;\n",
       "    }\n",
       "\n",
       "    .dataframe thead tr th {\n",
       "        text-align: left;\n",
       "    }\n",
       "\n",
       "    .dataframe thead tr:last-of-type th {\n",
       "        text-align: right;\n",
       "    }\n",
       "</style>\n",
       "<table border=\"1\" class=\"dataframe\">\n",
       "  <thead>\n",
       "    <tr>\n",
       "      <th></th>\n",
       "      <th>SPY</th>\n",
       "      <th>AGG</th>\n",
       "    </tr>\n",
       "    <tr>\n",
       "      <th></th>\n",
       "      <th>close</th>\n",
       "      <th>close</th>\n",
       "    </tr>\n",
       "    <tr>\n",
       "      <th>date</th>\n",
       "      <th></th>\n",
       "      <th></th>\n",
       "    </tr>\n",
       "  </thead>\n",
       "  <tbody>\n",
       "    <tr>\n",
       "      <th>2018-09-04</th>\n",
       "      <td>NaN</td>\n",
       "      <td>NaN</td>\n",
       "    </tr>\n",
       "    <tr>\n",
       "      <th>2018-09-05</th>\n",
       "      <td>-0.002691</td>\n",
       "      <td>-0.000471</td>\n",
       "    </tr>\n",
       "    <tr>\n",
       "      <th>2018-09-06</th>\n",
       "      <td>-0.003010</td>\n",
       "      <td>0.001698</td>\n",
       "    </tr>\n",
       "    <tr>\n",
       "      <th>2018-09-07</th>\n",
       "      <td>-0.001943</td>\n",
       "      <td>-0.003578</td>\n",
       "    </tr>\n",
       "    <tr>\n",
       "      <th>2018-09-10</th>\n",
       "      <td>0.001739</td>\n",
       "      <td>0.000945</td>\n",
       "    </tr>\n",
       "  </tbody>\n",
       "</table>\n",
       "</div>"
      ],
      "text/plain": [
       "                 SPY       AGG\n",
       "               close     close\n",
       "date                          \n",
       "2018-09-04       NaN       NaN\n",
       "2018-09-05 -0.002691 -0.000471\n",
       "2018-09-06 -0.003010  0.001698\n",
       "2018-09-07 -0.001943 -0.003578\n",
       "2018-09-10  0.001739  0.000945"
      ]
     },
     "execution_count": 52,
     "metadata": {},
     "output_type": "execute_result"
    }
   ],
   "source": [
    "# Calculate the daily roi for the stocks\n",
    "daily_returns = df.pct_change()\n",
    "daily_returns.head()"
   ]
  },
  {
   "cell_type": "code",
   "execution_count": 53,
   "metadata": {},
   "outputs": [],
   "source": [
    "# Calculate volatility\n",
    "std_dev_daily_return_spy = daily_returns.std()['SPY']['close']\n",
    "std_dev_daily_return_agg = daily_returns.std()['AGG']['close']\n"
   ]
  },
  {
   "cell_type": "code",
   "execution_count": 54,
   "metadata": {},
   "outputs": [],
   "source": [
    "#Calculate daily return means of portfolio members\n",
    "avg_daily_return_spy = daily_returns.mean()['SPY']['close']\n",
    "avg_daily_return_agg = daily_returns.mean()['AGG']['close']"
   ]
  },
  {
   "cell_type": "code",
   "execution_count": 55,
   "metadata": {},
   "outputs": [
    {
     "data": {
      "text/plain": [
       "113.84"
      ]
     },
     "execution_count": 55,
     "metadata": {},
     "output_type": "execute_result"
    }
   ],
   "source": [
    "# Save the last day's closing price\n",
    "last_day_spy = df['SPY']['close'][-1]\n",
    "last_day_agg = df['AGG']['close'][-1]\n",
    "last_day_agg"
   ]
  },
  {
   "cell_type": "code",
   "execution_count": 56,
   "metadata": {},
   "outputs": [],
   "source": [
    "# Setup the Monte Carlo Parameters\n",
    "number_simulations = 100\n",
    "number_records = 252 * 30\n",
    "monte_carlo = pd.DataFrame()\n",
    "portfolio_cumulative_returns  = pd.DataFrame()"
   ]
  },
  {
   "cell_type": "code",
   "execution_count": 57,
   "metadata": {},
   "outputs": [
    {
     "data": {
      "text/html": [
       "<div>\n",
       "<style scoped>\n",
       "    .dataframe tbody tr th:only-of-type {\n",
       "        vertical-align: middle;\n",
       "    }\n",
       "\n",
       "    .dataframe tbody tr th {\n",
       "        vertical-align: top;\n",
       "    }\n",
       "\n",
       "    .dataframe thead th {\n",
       "        text-align: right;\n",
       "    }\n",
       "</style>\n",
       "<table border=\"1\" class=\"dataframe\">\n",
       "  <thead>\n",
       "    <tr style=\"text-align: right;\">\n",
       "      <th></th>\n",
       "      <th>0</th>\n",
       "      <th>1</th>\n",
       "      <th>2</th>\n",
       "      <th>3</th>\n",
       "      <th>4</th>\n",
       "      <th>5</th>\n",
       "      <th>6</th>\n",
       "      <th>7</th>\n",
       "      <th>8</th>\n",
       "      <th>9</th>\n",
       "      <th>...</th>\n",
       "      <th>90</th>\n",
       "      <th>91</th>\n",
       "      <th>92</th>\n",
       "      <th>93</th>\n",
       "      <th>94</th>\n",
       "      <th>95</th>\n",
       "      <th>96</th>\n",
       "      <th>97</th>\n",
       "      <th>98</th>\n",
       "      <th>99</th>\n",
       "    </tr>\n",
       "  </thead>\n",
       "  <tbody>\n",
       "    <tr>\n",
       "      <th>0</th>\n",
       "      <td>1.000000</td>\n",
       "      <td>1.000000</td>\n",
       "      <td>1.000000</td>\n",
       "      <td>1.000000</td>\n",
       "      <td>1.000000</td>\n",
       "      <td>1.000000</td>\n",
       "      <td>1.000000</td>\n",
       "      <td>1.000000</td>\n",
       "      <td>1.000000</td>\n",
       "      <td>1.000000</td>\n",
       "      <td>...</td>\n",
       "      <td>1.000000</td>\n",
       "      <td>1.000000</td>\n",
       "      <td>1.000000</td>\n",
       "      <td>1.000000</td>\n",
       "      <td>1.000000</td>\n",
       "      <td>1.000000</td>\n",
       "      <td>1.000000</td>\n",
       "      <td>1.000000</td>\n",
       "      <td>1.000000</td>\n",
       "      <td>1.000000</td>\n",
       "    </tr>\n",
       "    <tr>\n",
       "      <th>1</th>\n",
       "      <td>1.003198</td>\n",
       "      <td>0.993741</td>\n",
       "      <td>0.990602</td>\n",
       "      <td>0.998563</td>\n",
       "      <td>1.005974</td>\n",
       "      <td>1.009201</td>\n",
       "      <td>1.012315</td>\n",
       "      <td>0.993407</td>\n",
       "      <td>1.001846</td>\n",
       "      <td>0.998759</td>\n",
       "      <td>...</td>\n",
       "      <td>1.000506</td>\n",
       "      <td>1.001795</td>\n",
       "      <td>0.993316</td>\n",
       "      <td>1.001625</td>\n",
       "      <td>0.990305</td>\n",
       "      <td>0.996395</td>\n",
       "      <td>1.010689</td>\n",
       "      <td>1.011361</td>\n",
       "      <td>1.009089</td>\n",
       "      <td>1.012340</td>\n",
       "    </tr>\n",
       "    <tr>\n",
       "      <th>2</th>\n",
       "      <td>1.008593</td>\n",
       "      <td>0.998084</td>\n",
       "      <td>0.988739</td>\n",
       "      <td>0.997466</td>\n",
       "      <td>1.010047</td>\n",
       "      <td>0.996492</td>\n",
       "      <td>1.004595</td>\n",
       "      <td>0.979217</td>\n",
       "      <td>1.000312</td>\n",
       "      <td>1.009776</td>\n",
       "      <td>...</td>\n",
       "      <td>0.995275</td>\n",
       "      <td>1.005918</td>\n",
       "      <td>0.984248</td>\n",
       "      <td>0.995511</td>\n",
       "      <td>0.988827</td>\n",
       "      <td>0.990458</td>\n",
       "      <td>1.002063</td>\n",
       "      <td>1.012489</td>\n",
       "      <td>1.007033</td>\n",
       "      <td>1.016743</td>\n",
       "    </tr>\n",
       "    <tr>\n",
       "      <th>3</th>\n",
       "      <td>1.007080</td>\n",
       "      <td>0.997692</td>\n",
       "      <td>0.992948</td>\n",
       "      <td>0.989065</td>\n",
       "      <td>1.008824</td>\n",
       "      <td>1.000691</td>\n",
       "      <td>1.008971</td>\n",
       "      <td>0.971226</td>\n",
       "      <td>0.999526</td>\n",
       "      <td>1.019605</td>\n",
       "      <td>...</td>\n",
       "      <td>1.002026</td>\n",
       "      <td>1.002201</td>\n",
       "      <td>0.975103</td>\n",
       "      <td>1.001466</td>\n",
       "      <td>0.984663</td>\n",
       "      <td>0.991250</td>\n",
       "      <td>0.995243</td>\n",
       "      <td>1.013211</td>\n",
       "      <td>1.008430</td>\n",
       "      <td>1.025985</td>\n",
       "    </tr>\n",
       "    <tr>\n",
       "      <th>4</th>\n",
       "      <td>1.017874</td>\n",
       "      <td>1.000894</td>\n",
       "      <td>0.987277</td>\n",
       "      <td>0.995989</td>\n",
       "      <td>1.009847</td>\n",
       "      <td>0.993197</td>\n",
       "      <td>1.006385</td>\n",
       "      <td>0.967554</td>\n",
       "      <td>1.009485</td>\n",
       "      <td>1.005010</td>\n",
       "      <td>...</td>\n",
       "      <td>1.008225</td>\n",
       "      <td>0.999567</td>\n",
       "      <td>0.973614</td>\n",
       "      <td>1.006204</td>\n",
       "      <td>0.975785</td>\n",
       "      <td>0.993815</td>\n",
       "      <td>0.983910</td>\n",
       "      <td>1.014447</td>\n",
       "      <td>1.012546</td>\n",
       "      <td>1.019880</td>\n",
       "    </tr>\n",
       "  </tbody>\n",
       "</table>\n",
       "<p>5 rows × 100 columns</p>\n",
       "</div>"
      ],
      "text/plain": [
       "         0         1         2         3         4         5         6   \\\n",
       "0  1.000000  1.000000  1.000000  1.000000  1.000000  1.000000  1.000000   \n",
       "1  1.003198  0.993741  0.990602  0.998563  1.005974  1.009201  1.012315   \n",
       "2  1.008593  0.998084  0.988739  0.997466  1.010047  0.996492  1.004595   \n",
       "3  1.007080  0.997692  0.992948  0.989065  1.008824  1.000691  1.008971   \n",
       "4  1.017874  1.000894  0.987277  0.995989  1.009847  0.993197  1.006385   \n",
       "\n",
       "         7         8         9   ...        90        91        92        93  \\\n",
       "0  1.000000  1.000000  1.000000  ...  1.000000  1.000000  1.000000  1.000000   \n",
       "1  0.993407  1.001846  0.998759  ...  1.000506  1.001795  0.993316  1.001625   \n",
       "2  0.979217  1.000312  1.009776  ...  0.995275  1.005918  0.984248  0.995511   \n",
       "3  0.971226  0.999526  1.019605  ...  1.002026  1.002201  0.975103  1.001466   \n",
       "4  0.967554  1.009485  1.005010  ...  1.008225  0.999567  0.973614  1.006204   \n",
       "\n",
       "         94        95        96        97        98        99  \n",
       "0  1.000000  1.000000  1.000000  1.000000  1.000000  1.000000  \n",
       "1  0.990305  0.996395  1.010689  1.011361  1.009089  1.012340  \n",
       "2  0.988827  0.990458  1.002063  1.012489  1.007033  1.016743  \n",
       "3  0.984663  0.991250  0.995243  1.013211  1.008430  1.025985  \n",
       "4  0.975785  0.993815  0.983910  1.014447  1.012546  1.019880  \n",
       "\n",
       "[5 rows x 100 columns]"
      ]
     },
     "execution_count": 57,
     "metadata": {},
     "output_type": "execute_result"
    }
   ],
   "source": [
    "# Run the Monte Carlo Simulation\n",
    "for n in range(number_simulations):\n",
    "    \n",
    "    #initialize lists to hold simulated prices, populate with last closing price to which we will add simulated prices as we loop\n",
    "    simulated_spy_prices = [last_day_spy]\n",
    "    simulated_agg_prices = [last_day_agg]\n",
    "    \n",
    "    # Simulate the returns for 252 days\n",
    "    for i in range(number_records):\n",
    "    \n",
    "        # Calculate the simulated price using the last price within the list\n",
    "        simulated_spy_price = simulated_spy_prices[-1] * (1 + np.random.normal(avg_daily_return_spy, std_dev_daily_return_spy))\n",
    "        simulated_agg_price = simulated_agg_prices[-1] * (1 + np.random.normal(avg_daily_return_agg, std_dev_daily_return_agg))\n",
    "        \n",
    "        # Append the simulated price to the list\n",
    "        simulated_spy_prices.append(simulated_spy_price)\n",
    "        simulated_agg_prices.append(simulated_agg_price)\n",
    "    \n",
    "    # Append a simulated prices of each simulation to DataFrame\n",
    "    monte_carlo[\"JNJ prices\"] = pd.Series(simulated_spy_prices)\n",
    "    monte_carlo[\"AGG prices\"] = pd.Series(simulated_agg_prices)\n",
    "    \n",
    "    # Calculate the daily returns of simulated prices\n",
    "    simulated_daily_returns = monte_carlo.pct_change()\n",
    "    \n",
    "    # Set the portfolio weights (60% JNJ; 40% MU)\n",
    "    weights = [0.60, 0.40]\n",
    "\n",
    "    # Use the `dot` function with the weights to multiply weights with each column's simulated daily returns\n",
    "    portfolio_daily_returns = simulated_daily_returns.dot(weights)\n",
    "    \n",
    "    # Calculate the normalized, cumulative return series\n",
    "    portfolio_cumulative_returns[n] = (1 + portfolio_daily_returns.fillna(0)).cumprod()\n",
    "\n",
    "# Print records from the DataFrame\n",
    "portfolio_cumulative_returns.head()\n",
    "    "
   ]
  },
  {
   "cell_type": "code",
   "execution_count": 58,
   "metadata": {},
   "outputs": [
    {
     "data": {
      "text/plain": [
       "<matplotlib.axes._subplots.AxesSubplot at 0x267589016d8>"
      ]
     },
     "execution_count": 58,
     "metadata": {},
     "output_type": "execute_result"
    },
    {
     "data": {
      "image/png": "[encoded data removed]",
      "text/plain": [
       "<Figure size 432x288 with 1 Axes>"
      ]
     },
     "metadata": {
      "needs_background": "light"
     },
     "output_type": "display_data"
    }
   ],
   "source": [
    "# Visualize the Simulation\n",
    "plot_title = f\"{n+1} Simulations of Cumulative Portfolio Return Trajectories Over the Next 252 Trading Days - 30 yrs\"\n",
    "portfolio_cumulative_returns.plot(legend=None, title=plot_title)"
   ]
  },
  {
   "cell_type": "code",
   "execution_count": 59,
   "metadata": {},
   "outputs": [
    {
     "data": {
      "text/plain": [
       "0    3.361799\n",
       "1    2.612700\n",
       "2    4.000198\n",
       "3    4.374724\n",
       "4    3.764573\n",
       "Name: 7560, dtype: float64"
      ]
     },
     "execution_count": 59,
     "metadata": {},
     "output_type": "execute_result"
    }
   ],
   "source": [
    "# Select the last row for the cumulative returns (cumulative returns at 30 years)\n",
    "ending_cumulative_returns = portfolio_cumulative_returns.iloc[-1, :]\n",
    "ending_cumulative_returns.head()"
   ]
  },
  {
   "cell_type": "code",
   "execution_count": 60,
   "metadata": {},
   "outputs": [],
   "source": [
    "# Select the last row for the cumulative returns (cumulative returns at 20 years)\n",
    "# YOUR CODE HERE"
   ]
  },
  {
   "cell_type": "code",
   "execution_count": 61,
   "metadata": {},
   "outputs": [
    {
     "data": {
      "text/plain": [
       "0.05    1.034541\n",
       "0.95    6.268795\n",
       "Name: 7560, dtype: float64"
      ]
     },
     "execution_count": 61,
     "metadata": {},
     "output_type": "execute_result"
    }
   ],
   "source": [
    "# Display the 90% confidence interval for the ending returns\n",
    "confidence_interval = ending_cumulative_returns.quantile(q=[0.05, 0.95])\n",
    "confidence_interval"
   ]
  },
  {
   "cell_type": "code",
   "execution_count": 62,
   "metadata": {},
   "outputs": [
    {
     "data": {
      "text/plain": [
       "<matplotlib.lines.Line2D at 0x26758aae048>"
      ]
     },
     "execution_count": 62,
     "metadata": {},
     "output_type": "execute_result"
    },
    {
     "data": {
      "image/png": "[encoded data removed]",
      "text/plain": [
       "<Figure size 432x288 with 1 Axes>"
      ]
     },
     "metadata": {
      "needs_background": "light"
     },
     "output_type": "display_data"
    }
   ],
   "source": [
    "# Visualize the distribution of the ending returns\n",
    "plt.figure();\n",
    "ending_cumulative_returns.plot(kind='hist', density=True, bins=10)\n",
    "plt.axvline(confidence_interval.iloc[0], color='r')\n",
    "plt.axvline(confidence_interval.iloc[1], color='r')"
   ]
  },
  {
   "cell_type": "markdown",
   "metadata": {},
   "source": [
    "---"
   ]
  },
  {
   "cell_type": "markdown",
   "metadata": {},
   "source": [
    "# Retirement Analysis\n",
    "\n",
    "In this section, you will use the monte carlo model to answer the following retirement planning questions:\n",
    "\n",
    "1. What are the expected cumulative returns at 30 years for the 10th, 50th, and 90th percentiles?\n",
    "2. Given an initial investment of `$20,000`, what is the expected portfolio return in dollars at the 10th, 50th, and 90th percentiles?\n",
    "3. Given the current projected annual income from the Plaid analysis, will a 4% withdraw rate from the retirement portfolio meet or exceed that value at the 10th percentile?\n",
    "4. How would a 50% increase in the initial investment amount affect the 4% retirement withdrawal?"
   ]
  },
  {
   "cell_type": "markdown",
   "metadata": {},
   "source": [
    "### What are the expected cumulative returns at 30 years for the 10th, 50th, and 90th percentiles?"
   ]
  },
  {
   "cell_type": "code",
   "execution_count": 73,
   "metadata": {},
   "outputs": [
    {
     "name": "stdout",
     "output_type": "stream",
     "text": [
      "10th Percentile Returns: 1.0345406122091827\n",
      "50th Percentile Returns: 2.622753855784039\n",
      "90th Percentile Returns: 6.268795422329077\n",
      "\n"
     ]
    }
   ],
   "source": [
    "percentile_returns_10 = ending_cumulative_returns.quantile(q=[0.05])\n",
    "percentile_returns_50 = ending_cumulative_returns.quantile(q=[0.50])\n",
    "percentile_returns_90 = ending_cumulative_returns.quantile(q=[0.95])\n",
    "\n",
    "print(f\"10th Percentile Returns: {float(percentile_returns_10)}\\n\"\n",
    "     f\"50th Percentile Returns: {float(percentile_returns_50)}\\n\"\n",
    "     f\"90th Percentile Returns: {float(percentile_returns_90)}\\n\")"
   ]
  },
  {
   "cell_type": "markdown",
   "metadata": {},
   "source": [
    "### Given an initial investment of `$20,000`, what is the expected portfolio return in dollars at the 10th, 50th, and 90th percentiles?"
   ]
  },
  {
   "cell_type": "code",
   "execution_count": 79,
   "metadata": {},
   "outputs": [
    {
     "name": "stdout",
     "output_type": "stream",
     "text": [
      "10th Percentile Expected Returns : 20690\n",
      "50th Percentile Expected Returns : 52455\n",
      "90th Percentile Expected Returns : 125375\n",
      "\n"
     ]
    }
   ],
   "source": [
    "investment = 20000\n",
    "expected_10th_percentile = int(investment * percentile_returns_10)\n",
    "expected_50th_percentile = int(investment * percentile_returns_50)\n",
    "expected_90th_percentile = int(investment * percentile_returns_90)\n",
    "\n",
    "print(f\"10th Percentile Expected Returns : {expected_10th_percentile}\\n\"\n",
    "    f\"50th Percentile Expected Returns : {expected_50th_percentile}\\n\"\n",
    "     f\"90th Percentile Expected Returns : {expected_90th_percentile}\\n\")"
   ]
  },
  {
   "cell_type": "markdown",
   "metadata": {},
   "source": [
    "### Given the current projected annual income from the Plaid analysis, will a 4% withdraw rate from the retirement portfolio meet or exceed that value at the 10th percentile?\n",
    "\n",
    "Note: This is effectively saying that 90% of the expected returns will be greater than the return at the 10th percentile, so this can help measure the uncertainty about having enough funds at retirement"
   ]
  },
  {
   "cell_type": "code",
   "execution_count": 80,
   "metadata": {},
   "outputs": [
    {
     "name": "stdout",
     "output_type": "stream",
     "text": [
      "4 Percent of your portfolio is: 827.6\n",
      "This will NOT cover your expenses of 8645\n"
     ]
    }
   ],
   "source": [
    "#Note: Safe Withdrawal rates for retirement should be calculated to cover expenses, not income.  \n",
    "expenses_per_month = 8645\n",
    "\n",
    "if (expected_10th_percentile * 0.04) >= expenses_per_month:\n",
    "    \n",
    "    print(f\"4 Percent of your portfolio is: {(expected_10th_percentile * 0.04)}\\n\"\n",
    "         f\"This will cover your expenses of {expenses_per_month}\")\n",
    "    \n",
    "else:\n",
    "    \n",
    "    print(f\"4 Percent of your portfolio is: {(expected_10th_percentile * 0.04)}\\n\"\n",
    "         f\"This will NOT cover your expenses of {expenses_per_month}\")\n",
    "        "
   ]
  },
  {
   "cell_type": "markdown",
   "metadata": {},
   "source": [
    "### How would a 50% increase in the initial investment amount affect the 4% retirement withdrawal?"
   ]
  },
  {
   "cell_type": "code",
   "execution_count": 81,
   "metadata": {},
   "outputs": [
    {
     "name": "stdout",
     "output_type": "stream",
     "text": [
      "4 Percent of your portfolio is: 1241.44\n",
      "This will NOT cover your expenses of 8645\n"
     ]
    }
   ],
   "source": [
    "expected_10th_percentile = int((investment*1.5) * percentile_returns_10)\n",
    "\n",
    "if (expected_10th_percentile * 0.04) >= expenses_per_month:\n",
    "    \n",
    "    print(f\"4 Percent of your portfolio is: {(expected_10th_percentile * 0.04)}\\n\"\n",
    "         f\"This will cover your expenses of {expenses_per_month}\")\n",
    "    \n",
    "else:\n",
    "    \n",
    "    print(f\"4 Percent of your portfolio is: {(expected_10th_percentile * 0.04)}\\n\"\n",
    "         f\"This will NOT cover your expenses of {expenses_per_month}\")\n",
    "        "
   ]
  },
  {
   "cell_type": "markdown",
   "metadata": {},
   "source": [
    "### Optional Challenge\n",
    "\n",
    "In this section, you will calculate and plot the cumulative returns for the median and 90% confidence intervals. This plot shows the expected cumulative returns for any given day between the first day and the last day of investment. "
   ]
  },
  {
   "cell_type": "code",
   "execution_count": null,
   "metadata": {},
   "outputs": [],
   "source": [
    "# YOUR CODE HERE"
   ]
  }
 ],
 "metadata": {
  "kernel_info": {
   "name": "dev"
  },
  "kernelspec": {
   "display_name": "Python 3",
   "language": "python",
   "name": "python3"
  },
  "language_info": {
   "codemirror_mode": {
    "name": "ipython",
    "version": 3
   },
   "file_extension": ".py",
   "mimetype": "text/x-python",
   "name": "python",
   "nbconvert_exporter": "python",
   "pygments_lexer": "ipython3",
   "version": "3.7.3"
  },
  "nteract": {
   "version": "0.12.3"
  }
 },
 "nbformat": 4,
 "nbformat_minor": 4
}
